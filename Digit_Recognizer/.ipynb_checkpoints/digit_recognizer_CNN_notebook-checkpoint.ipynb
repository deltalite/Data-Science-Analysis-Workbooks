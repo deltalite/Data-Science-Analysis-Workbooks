{
 "cells": [
  {
   "cell_type": "markdown",
   "metadata": {},
   "source": [
    "# Digit Recognizer"
   ]
  },
  {
   "cell_type": "markdown",
   "metadata": {},
   "source": [
    "Similar to the Titanic project, the Digit Recognizer Competition on Kaggle is meant for learning about computer vision. I've noticed that many of the submissions for this project use CNN. Due to SuperDataScience on Udemy, I am familiar with some common and useful machine learning models however at the start of this project, I know very little about Neural Networks and Deep Learning. My hope for this project is to gain some knowledge into how to and why you should set up Neural Networks in a certain way to create a model. \n",
    "Through this second project of mine, I hope to learn and clarify information on neural networks and use some new tools like keras. "
   ]
  },
  {
   "cell_type": "code",
   "execution_count": 1,
   "metadata": {},
   "outputs": [
    {
     "name": "stderr",
     "output_type": "stream",
     "text": [
      "Using TensorFlow backend.\n"
     ]
    },
    {
     "data": {
      "image/png": "[encoded data removed]",
      "text/plain": [
       "<Figure size 432x288 with 1 Axes>"
      ]
     },
     "metadata": {
      "needs_background": "light"
     },
     "output_type": "display_data"
    },
    {
     "name": "stdout",
     "output_type": "stream",
     "text": [
      "y_train Summary\n"
     ]
    },
    {
     "data": {
      "text/plain": [
       "count    42000.000000\n",
       "mean         4.456643\n",
       "std          2.887730\n",
       "min          0.000000\n",
       "25%          2.000000\n",
       "50%          4.000000\n",
       "75%          7.000000\n",
       "max          9.000000\n",
       "Name: label, dtype: float64"
      ]
     },
     "execution_count": 1,
     "metadata": {},
     "output_type": "execute_result"
    }
   ],
   "source": [
    "# Import modules\n",
    "import numpy as np\n",
    "import pandas as pd\n",
    "import matplotlib.pyplot as plt\n",
    "from sklearn.model_selection import train_test_split\n",
    "from keras.utils.np_utils import to_categorical\n",
    "%matplotlib inline\n",
    "# Determine which keras tools you want to use\n",
    "\n",
    "# Load data\n",
    "df_train = pd.read_csv('data/train.csv')\n",
    "df_test = pd.read_csv('data/test.csv')\n",
    "\n",
    "x_train = df_train.iloc[:,1:]\n",
    "y_train = df_train['label']\n",
    "\n",
    "# Verify data is valid (should be, coming from Kaggle)\n",
    "plt.hist(y_train, rwidth = 0.9)\n",
    "plt.title(\"Traing Set Digit Distribution\")\n",
    "plt.show()\n",
    "print(\"y_train Summary\")\n",
    "y_train.describe()"
   ]
  },
  {
   "cell_type": "code",
   "execution_count": 2,
   "metadata": {},
   "outputs": [
    {
     "data": {
      "image/png": "[encoded data removed]",
      "text/plain": [
       "<Figure size 432x288 with 1 Axes>"
      ]
     },
     "metadata": {
      "needs_background": "light"
     },
     "output_type": "display_data"
    },
    {
     "name": "stdout",
     "output_type": "stream",
     "text": [
      "x_train Summary\n"
     ]
    },
    {
     "data": {
      "text/html": [
       "<div>\n",
       "<style scoped>\n",
       "    .dataframe tbody tr th:only-of-type {\n",
       "        vertical-align: middle;\n",
       "    }\n",
       "\n",
       "    .dataframe tbody tr th {\n",
       "        vertical-align: top;\n",
       "    }\n",
       "\n",
       "    .dataframe thead th {\n",
       "        text-align: right;\n",
       "    }\n",
       "</style>\n",
       "<table border=\"1\" class=\"dataframe\">\n",
       "  <thead>\n",
       "    <tr style=\"text-align: right;\">\n",
       "      <th></th>\n",
       "      <th>pixel0</th>\n",
       "      <th>pixel1</th>\n",
       "      <th>pixel2</th>\n",
       "      <th>pixel3</th>\n",
       "      <th>pixel4</th>\n",
       "      <th>pixel5</th>\n",
       "      <th>pixel6</th>\n",
       "      <th>pixel7</th>\n",
       "      <th>pixel8</th>\n",
       "      <th>pixel9</th>\n",
       "      <th>...</th>\n",
       "      <th>pixel774</th>\n",
       "      <th>pixel775</th>\n",
       "      <th>pixel776</th>\n",
       "      <th>pixel777</th>\n",
       "      <th>pixel778</th>\n",
       "      <th>pixel779</th>\n",
       "      <th>pixel780</th>\n",
       "      <th>pixel781</th>\n",
       "      <th>pixel782</th>\n",
       "      <th>pixel783</th>\n",
       "    </tr>\n",
       "  </thead>\n",
       "  <tbody>\n",
       "    <tr>\n",
       "      <th>count</th>\n",
       "      <td>42000.0</td>\n",
       "      <td>42000.0</td>\n",
       "      <td>42000.0</td>\n",
       "      <td>42000.0</td>\n",
       "      <td>42000.0</td>\n",
       "      <td>42000.0</td>\n",
       "      <td>42000.0</td>\n",
       "      <td>42000.0</td>\n",
       "      <td>42000.0</td>\n",
       "      <td>42000.0</td>\n",
       "      <td>...</td>\n",
       "      <td>42000.000000</td>\n",
       "      <td>42000.000000</td>\n",
       "      <td>42000.000000</td>\n",
       "      <td>42000.00000</td>\n",
       "      <td>42000.000000</td>\n",
       "      <td>42000.000000</td>\n",
       "      <td>42000.0</td>\n",
       "      <td>42000.0</td>\n",
       "      <td>42000.0</td>\n",
       "      <td>42000.0</td>\n",
       "    </tr>\n",
       "    <tr>\n",
       "      <th>mean</th>\n",
       "      <td>0.0</td>\n",
       "      <td>0.0</td>\n",
       "      <td>0.0</td>\n",
       "      <td>0.0</td>\n",
       "      <td>0.0</td>\n",
       "      <td>0.0</td>\n",
       "      <td>0.0</td>\n",
       "      <td>0.0</td>\n",
       "      <td>0.0</td>\n",
       "      <td>0.0</td>\n",
       "      <td>...</td>\n",
       "      <td>0.219286</td>\n",
       "      <td>0.117095</td>\n",
       "      <td>0.059024</td>\n",
       "      <td>0.02019</td>\n",
       "      <td>0.017238</td>\n",
       "      <td>0.002857</td>\n",
       "      <td>0.0</td>\n",
       "      <td>0.0</td>\n",
       "      <td>0.0</td>\n",
       "      <td>0.0</td>\n",
       "    </tr>\n",
       "    <tr>\n",
       "      <th>std</th>\n",
       "      <td>0.0</td>\n",
       "      <td>0.0</td>\n",
       "      <td>0.0</td>\n",
       "      <td>0.0</td>\n",
       "      <td>0.0</td>\n",
       "      <td>0.0</td>\n",
       "      <td>0.0</td>\n",
       "      <td>0.0</td>\n",
       "      <td>0.0</td>\n",
       "      <td>0.0</td>\n",
       "      <td>...</td>\n",
       "      <td>6.312890</td>\n",
       "      <td>4.633819</td>\n",
       "      <td>3.274488</td>\n",
       "      <td>1.75987</td>\n",
       "      <td>1.894498</td>\n",
       "      <td>0.414264</td>\n",
       "      <td>0.0</td>\n",
       "      <td>0.0</td>\n",
       "      <td>0.0</td>\n",
       "      <td>0.0</td>\n",
       "    </tr>\n",
       "    <tr>\n",
       "      <th>min</th>\n",
       "      <td>0.0</td>\n",
       "      <td>0.0</td>\n",
       "      <td>0.0</td>\n",
       "      <td>0.0</td>\n",
       "      <td>0.0</td>\n",
       "      <td>0.0</td>\n",
       "      <td>0.0</td>\n",
       "      <td>0.0</td>\n",
       "      <td>0.0</td>\n",
       "      <td>0.0</td>\n",
       "      <td>...</td>\n",
       "      <td>0.000000</td>\n",
       "      <td>0.000000</td>\n",
       "      <td>0.000000</td>\n",
       "      <td>0.00000</td>\n",
       "      <td>0.000000</td>\n",
       "      <td>0.000000</td>\n",
       "      <td>0.0</td>\n",
       "      <td>0.0</td>\n",
       "      <td>0.0</td>\n",
       "      <td>0.0</td>\n",
       "    </tr>\n",
       "    <tr>\n",
       "      <th>25%</th>\n",
       "      <td>0.0</td>\n",
       "      <td>0.0</td>\n",
       "      <td>0.0</td>\n",
       "      <td>0.0</td>\n",
       "      <td>0.0</td>\n",
       "      <td>0.0</td>\n",
       "      <td>0.0</td>\n",
       "      <td>0.0</td>\n",
       "      <td>0.0</td>\n",
       "      <td>0.0</td>\n",
       "      <td>...</td>\n",
       "      <td>0.000000</td>\n",
       "      <td>0.000000</td>\n",
       "      <td>0.000000</td>\n",
       "      <td>0.00000</td>\n",
       "      <td>0.000000</td>\n",
       "      <td>0.000000</td>\n",
       "      <td>0.0</td>\n",
       "      <td>0.0</td>\n",
       "      <td>0.0</td>\n",
       "      <td>0.0</td>\n",
       "    </tr>\n",
       "    <tr>\n",
       "      <th>50%</th>\n",
       "      <td>0.0</td>\n",
       "      <td>0.0</td>\n",
       "      <td>0.0</td>\n",
       "      <td>0.0</td>\n",
       "      <td>0.0</td>\n",
       "      <td>0.0</td>\n",
       "      <td>0.0</td>\n",
       "      <td>0.0</td>\n",
       "      <td>0.0</td>\n",
       "      <td>0.0</td>\n",
       "      <td>...</td>\n",
       "      <td>0.000000</td>\n",
       "      <td>0.000000</td>\n",
       "      <td>0.000000</td>\n",
       "      <td>0.00000</td>\n",
       "      <td>0.000000</td>\n",
       "      <td>0.000000</td>\n",
       "      <td>0.0</td>\n",
       "      <td>0.0</td>\n",
       "      <td>0.0</td>\n",
       "      <td>0.0</td>\n",
       "    </tr>\n",
       "    <tr>\n",
       "      <th>75%</th>\n",
       "      <td>0.0</td>\n",
       "      <td>0.0</td>\n",
       "      <td>0.0</td>\n",
       "      <td>0.0</td>\n",
       "      <td>0.0</td>\n",
       "      <td>0.0</td>\n",
       "      <td>0.0</td>\n",
       "      <td>0.0</td>\n",
       "      <td>0.0</td>\n",
       "      <td>0.0</td>\n",
       "      <td>...</td>\n",
       "      <td>0.000000</td>\n",
       "      <td>0.000000</td>\n",
       "      <td>0.000000</td>\n",
       "      <td>0.00000</td>\n",
       "      <td>0.000000</td>\n",
       "      <td>0.000000</td>\n",
       "      <td>0.0</td>\n",
       "      <td>0.0</td>\n",
       "      <td>0.0</td>\n",
       "      <td>0.0</td>\n",
       "    </tr>\n",
       "    <tr>\n",
       "      <th>max</th>\n",
       "      <td>0.0</td>\n",
       "      <td>0.0</td>\n",
       "      <td>0.0</td>\n",
       "      <td>0.0</td>\n",
       "      <td>0.0</td>\n",
       "      <td>0.0</td>\n",
       "      <td>0.0</td>\n",
       "      <td>0.0</td>\n",
       "      <td>0.0</td>\n",
       "      <td>0.0</td>\n",
       "      <td>...</td>\n",
       "      <td>254.000000</td>\n",
       "      <td>254.000000</td>\n",
       "      <td>253.000000</td>\n",
       "      <td>253.00000</td>\n",
       "      <td>254.000000</td>\n",
       "      <td>62.000000</td>\n",
       "      <td>0.0</td>\n",
       "      <td>0.0</td>\n",
       "      <td>0.0</td>\n",
       "      <td>0.0</td>\n",
       "    </tr>\n",
       "  </tbody>\n",
       "</table>\n",
       "<p>8 rows × 784 columns</p>\n",
       "</div>"
      ],
      "text/plain": [
       "        pixel0   pixel1   pixel2   pixel3   pixel4   pixel5   pixel6   pixel7  \\\n",
       "count  42000.0  42000.0  42000.0  42000.0  42000.0  42000.0  42000.0  42000.0   \n",
       "mean       0.0      0.0      0.0      0.0      0.0      0.0      0.0      0.0   \n",
       "std        0.0      0.0      0.0      0.0      0.0      0.0      0.0      0.0   \n",
       "min        0.0      0.0      0.0      0.0      0.0      0.0      0.0      0.0   \n",
       "25%        0.0      0.0      0.0      0.0      0.0      0.0      0.0      0.0   \n",
       "50%        0.0      0.0      0.0      0.0      0.0      0.0      0.0      0.0   \n",
       "75%        0.0      0.0      0.0      0.0      0.0      0.0      0.0      0.0   \n",
       "max        0.0      0.0      0.0      0.0      0.0      0.0      0.0      0.0   \n",
       "\n",
       "        pixel8   pixel9  ...      pixel774      pixel775      pixel776  \\\n",
       "count  42000.0  42000.0  ...  42000.000000  42000.000000  42000.000000   \n",
       "mean       0.0      0.0  ...      0.219286      0.117095      0.059024   \n",
       "std        0.0      0.0  ...      6.312890      4.633819      3.274488   \n",
       "min        0.0      0.0  ...      0.000000      0.000000      0.000000   \n",
       "25%        0.0      0.0  ...      0.000000      0.000000      0.000000   \n",
       "50%        0.0      0.0  ...      0.000000      0.000000      0.000000   \n",
       "75%        0.0      0.0  ...      0.000000      0.000000      0.000000   \n",
       "max        0.0      0.0  ...    254.000000    254.000000    253.000000   \n",
       "\n",
       "          pixel777      pixel778      pixel779  pixel780  pixel781  pixel782  \\\n",
       "count  42000.00000  42000.000000  42000.000000   42000.0   42000.0   42000.0   \n",
       "mean       0.02019      0.017238      0.002857       0.0       0.0       0.0   \n",
       "std        1.75987      1.894498      0.414264       0.0       0.0       0.0   \n",
       "min        0.00000      0.000000      0.000000       0.0       0.0       0.0   \n",
       "25%        0.00000      0.000000      0.000000       0.0       0.0       0.0   \n",
       "50%        0.00000      0.000000      0.000000       0.0       0.0       0.0   \n",
       "75%        0.00000      0.000000      0.000000       0.0       0.0       0.0   \n",
       "max      253.00000    254.000000     62.000000       0.0       0.0       0.0   \n",
       "\n",
       "       pixel783  \n",
       "count   42000.0  \n",
       "mean        0.0  \n",
       "std         0.0  \n",
       "min         0.0  \n",
       "25%         0.0  \n",
       "50%         0.0  \n",
       "75%         0.0  \n",
       "max         0.0  \n",
       "\n",
       "[8 rows x 784 columns]"
      ]
     },
     "execution_count": 2,
     "metadata": {},
     "output_type": "execute_result"
    }
   ],
   "source": [
    "# Examine how data looks\n",
    "x_train_array = x_train.to_numpy().flatten()\n",
    "plt.hist(x_train_array, rwidth = 0.9, bins=100)\n",
    "plt.title(\"Traing Set Input Distribution\")\n",
    "plt.show()\n",
    "print(\"x_train Summary\")\n",
    "x_train.describe()"
   ]
  },
  {
   "cell_type": "markdown",
   "metadata": {},
   "source": [
    "Clearly, the input has a lot of zero values, where 0 indicates the abscence of writing in a visual representation of drawing these digits. With help from Yassine Ghouzam's Kaggle kernel (https://www.kaggle.com/yassineghouzam/introduction-to-cnn-keras-0-997-top-6), let's visualize what some of these inputs actually look like. "
   ]
  },
  {
   "cell_type": "code",
   "execution_count": 3,
   "metadata": {},
   "outputs": [],
   "source": [
    "# Visualize input\n",
    "\n",
    "# calling it X_train since each set of imput will be an input matrix (denoted X) as oppose to the vector of inputs x\n",
    "# .reshape(-1) has the same effect as .flatten() seen above - I didn't specify reshape(num_cols, -1) so the default in a sense\n",
    "# is to flatten the np.array. It then reshapes it into 28x28x1 matrices, one for each picture input\n",
    "X_train = x_train.to_numpy().reshape(-1,28,28,1)\n",
    "# Try running this with (-1,28,28) and you'll notice\n",
    "# you get a 1xNumber_of_input_picturesx28x28 which is not as easy a format to deal with\n",
    "\n",
    "# Encode labels (digit value) to sparse vectors\n",
    "# ex. let n represent the label value\n",
    "#     vector_n = [(1 if digit == n else 0) for digit in label_options]\n",
    "#     5 => [0, 0, 0, 0, 0, 1, 0, 0, 0, 0]\n",
    "y_train = to_categorical(y_train, num_classes = 10)"
   ]
  },
  {
   "cell_type": "code",
   "execution_count": 4,
   "metadata": {},
   "outputs": [
    {
     "data": {
      "text/plain": [
       "<matplotlib.image.AxesImage at 0x1cf970e2278>"
      ]
     },
     "execution_count": 4,
     "metadata": {},
     "output_type": "execute_result"
    },
    {
     "data": {
      "image/png": "[encoded data removed]",
      "text/plain": [
       "<Figure size 432x288 with 1 Axes>"
      ]
     },
     "metadata": {
      "needs_background": "light"
     },
     "output_type": "display_data"
    }
   ],
   "source": [
    "# Randomly show one of the 42000 images in X_train\n",
    "plt.imshow(X_train[np.random.randint(42000)][:,:,0])"
   ]
  },
  {
   "cell_type": "markdown",
   "metadata": {},
   "source": [
    "Next, I'll be constructing my Convolutional Neural Network using Keras.\n",
    "\n",
    "After reading through a number of articles, it seems that there is no true proven, systematic way you should go about creating your CNN. That said, there are some standard ways to create CNNs for image recognition. There are also some conventions such as choosing a power of 2 for the number of convolution filters. Through looking at these commonly successful approaches, using intuition and some guessing, a good model can be developed. \n",
    "\n",
    "Of course, as we'll see later, there are some simple things such as increasing the number of epochs to increase the accuracy of your model. With data generation based off of the given data, each epoch trains the model (through backpropagation) with data altered from our original data."
   ]
  },
  {
   "cell_type": "code",
   "execution_count": 5,
   "metadata": {},
   "outputs": [],
   "source": [
    "# import deep learning objects\n",
    "import keras\n",
    "from keras.models import Sequential\n",
    "from keras.layers import Conv2D\n",
    "from keras.layers import MaxPooling2D\n",
    "from keras.layers import Flatten\n",
    "from keras.layers import Dense"
   ]
  },
  {
   "cell_type": "markdown",
   "metadata": {},
   "source": [
    "With Keras, you have the option to construct your ANN with a Sequential model or a Functional model.\n",
    "\n",
    "$\\underline{\\text{Sequential Model}}$\n",
    "\n",
    "A Sequential model makes it easy to create a straightforward deep learning model. Layers are added to the Sequential object and layers pass their outputs to the next layer in the sequence. This means with a few lines of code, you can build a pretty robust model, depending on the complexity of the problem at hand. This works for the digit recognizer since the layers have an order they should go in:\n",
    "\n",
    "Convolutional Filteration $\\rightarrow$ MaxPooling (Repeat previous two layers as needed) $\\rightarrow$ Flatten $\\rightarrow$ Dense Layer(s) $\\rightarrow$ Categorical Output\n",
    "\n",
    "$\\underline{\\text{Functional Model}}$\n",
    "\n",
    "A Functional model is highly customizable which allows for personalization such as having any layer communicate with any other layer. This is great for designing RNNs and other models that don't process data in the single, sequential way seen here."
   ]
  },
  {
   "cell_type": "code",
   "execution_count": 6,
   "metadata": {},
   "outputs": [
    {
     "name": "stdout",
     "output_type": "stream",
     "text": [
      "WARNING:tensorflow:From C:\\Users\\dex78\\Anaconda3\\lib\\site-packages\\keras\\backend\\tensorflow_backend.py:66: The name tf.get_default_graph is deprecated. Please use tf.compat.v1.get_default_graph instead.\n",
      "\n",
      "WARNING:tensorflow:From C:\\Users\\dex78\\Anaconda3\\lib\\site-packages\\keras\\backend\\tensorflow_backend.py:541: The name tf.placeholder is deprecated. Please use tf.compat.v1.placeholder instead.\n",
      "\n",
      "WARNING:tensorflow:From C:\\Users\\dex78\\Anaconda3\\lib\\site-packages\\keras\\backend\\tensorflow_backend.py:4432: The name tf.random_uniform is deprecated. Please use tf.random.uniform instead.\n",
      "\n",
      "WARNING:tensorflow:From C:\\Users\\dex78\\Anaconda3\\lib\\site-packages\\keras\\backend\\tensorflow_backend.py:4267: The name tf.nn.max_pool is deprecated. Please use tf.nn.max_pool2d instead.\n",
      "\n",
      "WARNING:tensorflow:From C:\\Users\\dex78\\Anaconda3\\lib\\site-packages\\keras\\optimizers.py:793: The name tf.train.Optimizer is deprecated. Please use tf.compat.v1.train.Optimizer instead.\n",
      "\n",
      "WARNING:tensorflow:From C:\\Users\\dex78\\Anaconda3\\lib\\site-packages\\keras\\backend\\tensorflow_backend.py:3576: The name tf.log is deprecated. Please use tf.math.log instead.\n",
      "\n"
     ]
    }
   ],
   "source": [
    "# Create the Sequential model\n",
    "model = Sequential()\n",
    "model.add(Conv2D(32,\n",
    "                 kernel_size=3,\n",
    "                 activation='relu',\n",
    "                 input_shape=(28,28,1)))\n",
    "model.add(MaxPooling2D(pool_size = (2, 2)))\n",
    "model.add(Conv2D(64,\n",
    "                 kernel_size=3,\n",
    "                 activation='relu'))\n",
    "model.add(MaxPooling2D(pool_size = (2, 2)))\n",
    "model.add(Flatten())\n",
    "# output_dim should be somewhere between the number of inputs and the number of outputs\n",
    "# again, following the power of 2 convension\n",
    "model.add(Dense(activation='relu', units=128))\n",
    "# softmax to output the classification with the highest probability\n",
    "# each element of y_train/the output is a digit (0-9)\n",
    "model.add(Dense(activation='softmax', units=10))\n",
    "# adam is a generally practical optimizer, \n",
    "model.compile(optimizer='adam', loss='categorical_crossentropy', metrics=['accuracy'])"
   ]
  },
  {
   "cell_type": "code",
   "execution_count": 7,
   "metadata": {},
   "outputs": [],
   "source": [
    "from keras.preprocessing.image import ImageDataGenerator\n",
    "\n",
    "# Create data generators\n",
    "train_data_gen = ImageDataGenerator(\n",
    "    rescale=1./255,\n",
    "    rotation_range=20,\n",
    "    shear_range=0.2,\n",
    "    zoom_range=0.2,\n",
    "    width_shift_range=0.2,\n",
    "    height_shift_range=0.2)\n",
    "\n",
    "test_data_gen = ImageDataGenerator(rescale=1./255)"
   ]
  },
  {
   "cell_type": "code",
   "execution_count": 8,
   "metadata": {},
   "outputs": [
    {
     "name": "stdout",
     "output_type": "stream",
     "text": [
      "WARNING:tensorflow:From C:\\Users\\dex78\\Anaconda3\\lib\\site-packages\\tensorflow\\python\\ops\\math_grad.py:1250: add_dispatch_support.<locals>.wrapper (from tensorflow.python.ops.array_ops) is deprecated and will be removed in a future version.\n",
      "Instructions for updating:\n",
      "Use tf.where in 2.0, which has the same broadcast rule as np.where\n",
      "WARNING:tensorflow:From C:\\Users\\dex78\\Anaconda3\\lib\\site-packages\\keras\\backend\\tensorflow_backend.py:1033: The name tf.assign_add is deprecated. Please use tf.compat.v1.assign_add instead.\n",
      "\n",
      "Epoch 1/25\n",
      "42/42 [==============================] - 31s 742ms/step - loss: 1.6721 - acc: 0.4377\n",
      "Epoch 2/25\n",
      "42/42 [==============================] - 31s 729ms/step - loss: 0.7649 - acc: 0.7630\n",
      "Epoch 3/25\n",
      "42/42 [==============================] - 30s 726ms/step - loss: 0.5272 - acc: 0.8409\n",
      "Epoch 4/25\n",
      "42/42 [==============================] - 31s 736ms/step - loss: 0.4229 - acc: 0.8719\n",
      "Epoch 5/25\n",
      "42/42 [==============================] - 31s 729ms/step - loss: 0.3703 - acc: 0.8885\n",
      "Epoch 6/25\n",
      "42/42 [==============================] - 30s 725ms/step - loss: 0.3348 - acc: 0.8979\n",
      "Epoch 7/25\n",
      "42/42 [==============================] - 31s 727ms/step - loss: 0.3033 - acc: 0.9080\n",
      "Epoch 8/25\n",
      "42/42 [==============================] - 31s 731ms/step - loss: 0.2781 - acc: 0.9148\n",
      "Epoch 9/25\n",
      "42/42 [==============================] - 31s 731ms/step - loss: 0.2679 - acc: 0.9187\n",
      "Epoch 10/25\n",
      "42/42 [==============================] - 31s 728ms/step - loss: 0.2428 - acc: 0.9260\n",
      "Epoch 11/25\n",
      "42/42 [==============================] - 31s 730ms/step - loss: 0.2396 - acc: 0.9262\n",
      "Epoch 12/25\n",
      "42/42 [==============================] - 31s 728ms/step - loss: 0.2264 - acc: 0.9319\n",
      "Epoch 13/25\n",
      "42/42 [==============================] - 31s 736ms/step - loss: 0.2157 - acc: 0.9349\n",
      "Epoch 14/25\n",
      "42/42 [==============================] - 31s 731ms/step - loss: 0.2002 - acc: 0.9395\n",
      "Epoch 15/25\n",
      "42/42 [==============================] - 31s 733ms/step - loss: 0.1937 - acc: 0.9402\n",
      "Epoch 16/25\n",
      "42/42 [==============================] - 31s 728ms/step - loss: 0.1866 - acc: 0.9429\n",
      "Epoch 17/25\n",
      "42/42 [==============================] - 31s 728ms/step - loss: 0.1824 - acc: 0.9452\n",
      "Epoch 18/25\n",
      "42/42 [==============================] - 31s 730ms/step - loss: 0.1787 - acc: 0.9460\n",
      "Epoch 19/25\n",
      "42/42 [==============================] - 30s 722ms/step - loss: 0.1741 - acc: 0.9458\n",
      "Epoch 20/25\n",
      "42/42 [==============================] - 31s 743ms/step - loss: 0.1657 - acc: 0.9492\n",
      "Epoch 21/25\n",
      "42/42 [==============================] - 31s 734ms/step - loss: 0.1622 - acc: 0.9498\n",
      "Epoch 22/25\n",
      "42/42 [==============================] - 31s 747ms/step - loss: 0.1581 - acc: 0.9514\n",
      "Epoch 23/25\n",
      "42/42 [==============================] - 32s 757ms/step - loss: 0.1481 - acc: 0.9545\n",
      "Epoch 24/25\n",
      "42/42 [==============================] - 31s 745ms/step - loss: 0.1504 - acc: 0.9533\n",
      "Epoch 25/25\n",
      "42/42 [==============================] - 31s 730ms/step - loss: 0.1434 - acc: 0.9564\n"
     ]
    },
    {
     "data": {
      "text/plain": [
       "<keras.callbacks.History at 0x1cf971eab38>"
      ]
     },
     "execution_count": 8,
     "metadata": {},
     "output_type": "execute_result"
    }
   ],
   "source": [
    "num_epochs = 25\n",
    "# train model\n",
    "# fits model using the modification parameters entered above \n",
    "# with a batch_size of 1000, there will be 42 batches (42000 sample in X_train)\n",
    "model.fit_generator(train_data_gen.flow(X_train, y_train, batch_size=1000), epochs=num_epochs)"
   ]
  },
  {
   "cell_type": "markdown",
   "metadata": {},
   "source": [
    "$\\underline{\\text{Batches Explained}}$\n",
    "\n",
    "Batches are how many samples are fitted at a time - the models' dense layers' weights are updated after each batch.\n",
    "Large batches lead to fairly stable convergence of the model's weights. However, they take up more memory and take longer to train than smaller batches. So, some consideration has to be given to the machine you train your model on, as well as the size of your dataset. "
   ]
  },
  {
   "cell_type": "code",
   "execution_count": 10,
   "metadata": {},
   "outputs": [],
   "source": [
    "# save trained model\n",
    "import pickle\n",
    "filename = 'model.pickle' \n",
    "with open(filename, 'wb') as file:\n",
    "    pickle.dump(model, file, protocol=pickle.HIGHEST_PROTOCOL)"
   ]
  },
  {
   "cell_type": "code",
   "execution_count": null,
   "metadata": {},
   "outputs": [],
   "source": [
    "# load in model\n",
    "with open(filename, 'rb') as file:\n",
    "    model = pickle.load(file)"
   ]
  },
  {
   "cell_type": "code",
   "execution_count": null,
   "metadata": {},
   "outputs": [],
   "source": [
    "# predict with test data"
   ]
  },
  {
   "cell_type": "code",
   "execution_count": null,
   "metadata": {},
   "outputs": [],
   "source": [
    "# sparse vector -> label\n",
    "# examine errors/confusion matrix"
   ]
  },
  {
   "cell_type": "markdown",
   "metadata": {},
   "source": [
    "Last comments"
   ]
  },
  {
   "cell_type": "code",
   "execution_count": 9,
   "metadata": {},
   "outputs": [],
   "source": [
    "# Submission & Conclusion\n",
    "sample_sub = pd.read_csv('sample_submission.csv')\n",
    "sample_sub.head()"
   ]
  }
 ],
 "metadata": {
  "kernelspec": {
   "display_name": "Python 3",
   "language": "python",
   "name": "python3"
  },
  "language_info": {
   "codemirror_mode": {
    "name": "ipython",
    "version": 3
   },
   "file_extension": ".py",
   "mimetype": "text/x-python",
   "name": "python",
   "nbconvert_exporter": "python",
   "pygments_lexer": "ipython3",
   "version": "3.7.3"
  }
 },
 "nbformat": 4,
 "nbformat_minor": 2
}
