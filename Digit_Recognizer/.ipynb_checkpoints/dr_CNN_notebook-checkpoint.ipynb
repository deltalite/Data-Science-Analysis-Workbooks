{
 "cells": [
  {
   "cell_type": "markdown",
   "metadata": {},
   "source": [
    "Similar to the Titanic project, the Digit Recognizer Competition on Kaggle is meant for learning about computer vision. I've noticed that many of the submissions for this project use CNN. Due to SuperDataScience on Udemy, I am familiar with some common and useful machine learning models however at the start of this project, I know very little about Neural Networks and Deep Learning. My hope for this project is to gain some knowledge into how to and why you should set up Neural Networks in a certain way to create a model. \n",
    "Through this second project of mine, I hope to learn and clarify information on neural networks and use some new tools like keras. "
   ]
  }
 ],
 "metadata": {
  "kernelspec": {
   "display_name": "Python 3",
   "language": "python",
   "name": "python3"
  },
  "language_info": {
   "codemirror_mode": {
    "name": "ipython",
    "version": 3
   },
   "file_extension": ".py",
   "mimetype": "text/x-python",
   "name": "python",
   "nbconvert_exporter": "python",
   "pygments_lexer": "ipython3",
   "version": "3.7.3"
  }
 },
 "nbformat": 4,
 "nbformat_minor": 2
}
